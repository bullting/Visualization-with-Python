{
 "cells": [
  {
   "cell_type": "code",
   "execution_count": null,
   "metadata": {},
   "outputs": [],
   "source": [
    "import pandas as pd\n",
    "import matplotlib.pyplot as plt\n",
    "%matplotlib notebook\n",
    "import numpy as np"
   ]
  },
  {
   "cell_type": "code",
   "execution_count": null,
   "metadata": {},
   "outputs": [],
   "source": [
    "df = pd.read_csv('USD_JPY Historical Data.csv') #Read Foreign Exchange rate of USD vs JPY"
   ]
  },
  {
   "cell_type": "code",
   "execution_count": null,
   "metadata": {},
   "outputs": [],
   "source": [
    "df.sort_index(ascending=False, inplace=True)"
   ]
  },
  {
   "cell_type": "code",
   "execution_count": null,
   "metadata": {},
   "outputs": [],
   "source": [
    "df['year'] = df['Date'].apply(lambda x: x[4:])\n",
    "df_sum =  df.groupby('year') ['Price'].agg({'mean': np.mean})\n",
    "df_sum = df_sum[df_sum.index < '20']\n",
    "df_sum.reset_index(inplace = True)"
   ]
  },
  {
   "cell_type": "code",
   "execution_count": null,
   "metadata": {},
   "outputs": [],
   "source": [
    "import xlrd\n",
    "df_tour = pd.read_excel('JTM_inbound20180330eng.xlsx', skiprows=284) #Read record of tourist inboound to Japan"
   ]
  },
  {
   "cell_type": "code",
   "execution_count": null,
   "metadata": {},
   "outputs": [],
   "source": [
    "df_tour.rename(columns={1999:'year', 4437863:'total'}, inplace = True)"
   ]
  },
  {
   "cell_type": "code",
   "execution_count": null,
   "metadata": {},
   "outputs": [],
   "source": [
    "# Add two digits \"20\" infront to make four digits year format\n",
    "df_sum['year'] = '20' + df_sum['year'] "
   ]
  },
  {
   "cell_type": "code",
   "execution_count": null,
   "metadata": {},
   "outputs": [],
   "source": [
    "fig, ax1 = plt.subplots(figsize=(8,6), dpi=100)\n",
    "\n",
    "ax1.set_ylabel('Japanese Yen (Per 1US Dollar)', color='b', alpha=0.7, size=12, linespacing = 2.4)\n",
    "ax1.plot(df_sum['year'], df_sum['mean'], color='b', alpha=0.7)\n",
    "ax1.tick_params(axis='y', labelcolor='b')\n",
    "\n",
    "ax2 = ax1.twinx()\n",
    "            \n",
    "ax2.set_ylabel('Number of Visitors (in 10 millions)', color='r', alpha=0.7, size=12)\n",
    "ax2.plot(df_sum['year'], df_tour['total'], color='r', alpha=0.7)\n",
    "ax2.tick_params(axis='y', labelcolor='r', top='off')\n",
    "ax2.set_ylim(0, 30000000)\n",
    "\n",
    "plt.title('Correlation of Foreign Tourist to Japan with the strongness and weakness of Japanese Yen\\n', fontsize=11,\n",
    "         style='italic')\n",
    "\n",
    "ax1.set_xticklabels(df_sum['year'], rotation=55)\n",
    "\n",
    "ax1.spines['top'].set_visible(False)\n",
    "ax2.spines['top'].set_visible(False)\n",
    "ax1.spines['left'].set_visible(False)\n",
    "ax2.spines['left'].set_visible(False)\n",
    "ax1.spines['right'].set_visible(False)\n",
    "ax2.spines['right'].set_visible(False)\n",
    "\n",
    "fig.tight_layout()\n",
    "plt.draw()\n",
    "plt.show()\n",
    "fig.savefig('c2a41.png')"
   ]
  }
 ],
 "metadata": {
  "kernelspec": {
   "display_name": "Python [conda env:py36]",
   "language": "python",
   "name": "conda-env-py36-py"
  },
  "language_info": {
   "codemirror_mode": {
    "name": "ipython",
    "version": 3
   },
   "file_extension": ".py",
   "mimetype": "text/x-python",
   "name": "python",
   "nbconvert_exporter": "python",
   "pygments_lexer": "ipython3",
   "version": "3.6.4"
  }
 },
 "nbformat": 4,
 "nbformat_minor": 2
}
